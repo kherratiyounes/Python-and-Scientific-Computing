{
 "cells": [
  {
   "cell_type": "markdown",
   "metadata": {},
   "source": [
    "# Python - Object Oriented Programming #\n",
    "Object-Oriented Programming (OOP) is a programming paradigm\n",
    "\n",
    "## Class definition##\n",
    "\n",
    "Classes provide a means of bundling data and functionality together. Creating a new class creates a model of objects. A class is a new type of object, allowing new instances of that type to be made.\n",
    "\n",
    "To define a new class we use the following syntax :\n",
    "\n",
    "```python\n",
    "class ClassName:\n",
    "    <statement-1>\n",
    "    .\n",
    "    .\n",
    "    .\n",
    "    <statement-N>\n",
    "```"
   ]
  },
  {
   "cell_type": "markdown",
   "metadata": {},
   "source": [
    "Exemple : definition of the class Point\n",
    "(Here the class is empty)"
   ]
  },
  {
   "cell_type": "code",
   "execution_count": 1,
   "metadata": {},
   "outputs": [],
   "source": [
    "class Point:\n",
    "    pass"
   ]
  },
  {
   "cell_type": "code",
   "execution_count": 2,
   "metadata": {},
   "outputs": [
    {
     "data": {
      "text/plain": [
       "type"
      ]
     },
     "execution_count": 2,
     "metadata": {},
     "output_type": "execute_result"
    }
   ],
   "source": [
    "type(Point)"
   ]
  },
  {
   "cell_type": "markdown",
   "metadata": {},
   "source": [
    "### Instantiation ###\n",
    "Class instantiation uses function notation.<br>\n",
    "``` x = ClassName() ```   creates a new instance of ClassName and assigns this object to the local variable x.\n",
    "\n",
    "Now we create an object instance of the class Point."
   ]
  },
  {
   "cell_type": "code",
   "execution_count": 3,
   "metadata": {},
   "outputs": [
    {
     "data": {
      "text/plain": [
       "__main__.Point"
      ]
     },
     "execution_count": 3,
     "metadata": {},
     "output_type": "execute_result"
    }
   ],
   "source": [
    "p = Point()\n",
    "type(p)"
   ]
  },
  {
   "cell_type": "markdown",
   "metadata": {},
   "source": [
    "### Attributes and Constructor ###\n",
    "Each class instance (object) can have attributes attached to it for maintaining its state.\n",
    "\n",
    "The instantiation operation creates an empty object. But in many situations we'd like to create objects with instances customized to a specific initial state. \n",
    "\n",
    "Constructors are generally used for instantiating an object. The task of constructors is to create and initialize the state of the object during instantiation.\n",
    "\n",
    "In Python a class may define a special method named ``` __init__() ``` that is always called when an object is created.\n",
    "\n",
    "When a class defines an ```__init__() ``` method, class instantiation automatically invokes ```__init__() ``` for the newly-created class instance (object). Hence, a new initialized instance is obtained.\n",
    "\n",
    "Here an exemple of the class Point with 3 attributes x, y and z.<br>\n",
    "In this example x, y and z will be initialized to zeros for every created object."
   ]
  },
  {
   "cell_type": "code",
   "execution_count": 4,
   "metadata": {},
   "outputs": [],
   "source": [
    "class Point :\n",
    "    \"\"\" Point : a class reprensenting points in IR3 \"\"\"\n",
    "    def __init__(self):\n",
    "        self.x = 0.0\n",
    "        self.y = 0.0\n",
    "        self.z = 0.0"
   ]
  },
  {
   "cell_type": "code",
   "execution_count": 5,
   "metadata": {},
   "outputs": [],
   "source": [
    "p = Point()"
   ]
  },
  {
   "cell_type": "code",
   "execution_count": 6,
   "metadata": {},
   "outputs": [
    {
     "name": "stdout",
     "output_type": "stream",
     "text": [
      "0.0 0.0 0.0\n"
     ]
    }
   ],
   "source": [
    "print(p.x, p.y, p.z)"
   ]
  },
  {
   "cell_type": "code",
   "execution_count": 7,
   "metadata": {},
   "outputs": [
    {
     "name": "stdout",
     "output_type": "stream",
     "text": [
      "1 2 3\n"
     ]
    }
   ],
   "source": [
    "p.x = 1\n",
    "p.y = 2\n",
    "p.z = 3\n",
    "print(p.x, p.y, p.z)"
   ]
  },
  {
   "cell_type": "markdown",
   "metadata": {},
   "source": [
    "The ```__init__()``` method may have arguments. In that case, arguments given during instantiation are passed on to ```__init__()```."
   ]
  },
  {
   "cell_type": "code",
   "execution_count": 8,
   "metadata": {},
   "outputs": [],
   "source": [
    "class Point :\n",
    "    def __init__(self, x, y, z):\n",
    "        self.x = float(x)\n",
    "        self.y = float(y)\n",
    "        self.z = float(z)"
   ]
  },
  {
   "cell_type": "code",
   "execution_count": 9,
   "metadata": {},
   "outputs": [
    {
     "name": "stdout",
     "output_type": "stream",
     "text": [
      "1.0 10.0 2.0\n"
     ]
    }
   ],
   "source": [
    "p = Point(1, 10, 2)\n",
    "print(p.x, p.y, p.z)"
   ]
  },
  {
   "cell_type": "markdown",
   "metadata": {},
   "source": [
    "### Constructor Overloading ? ###\n",
    "In python, there no constructor overloading.<br>\n",
    "To create a flexible constuctor, we can use default parameters"
   ]
  },
  {
   "cell_type": "code",
   "execution_count": 10,
   "metadata": {},
   "outputs": [
    {
     "ename": "TypeError",
     "evalue": "__init__() missing 3 required positional arguments: 'x', 'y', and 'z'",
     "output_type": "error",
     "traceback": [
      "\u001b[0;31m---------------------------------------------------------------------------\u001b[0m",
      "\u001b[0;31mTypeError\u001b[0m                                 Traceback (most recent call last)",
      "\u001b[0;32m<ipython-input-10-45eef628f0cf>\u001b[0m in \u001b[0;36m<module>\u001b[0;34m()\u001b[0m\n\u001b[0;32m----> 1\u001b[0;31m \u001b[0mp\u001b[0m \u001b[0;34m=\u001b[0m \u001b[0mPoint\u001b[0m\u001b[0;34m(\u001b[0m\u001b[0;34m)\u001b[0m\u001b[0;34m\u001b[0m\u001b[0m\n\u001b[0m",
      "\u001b[0;31mTypeError\u001b[0m: __init__() missing 3 required positional arguments: 'x', 'y', and 'z'"
     ]
    }
   ],
   "source": [
    "p = Point()"
   ]
  },
  {
   "cell_type": "code",
   "execution_count": 11,
   "metadata": {},
   "outputs": [],
   "source": [
    "class Point :\n",
    "    def __init__(self, x=0.0, y=0.0, z=0.0):\n",
    "        self.x = float(x)\n",
    "        self.y = float(y)\n",
    "        self.z = float(z)"
   ]
  },
  {
   "cell_type": "code",
   "execution_count": 12,
   "metadata": {},
   "outputs": [
    {
     "name": "stdout",
     "output_type": "stream",
     "text": [
      "0.0 0.0 0.0\n",
      "1.0 2.0 3.0\n",
      "2.0 0.0 1.0\n"
     ]
    }
   ],
   "source": [
    "p = Point()\n",
    "print(p.x, p.y, p.z)\n",
    "p = Point(1, 2, 3)\n",
    "print(p.x, p.y, p.z)\n",
    "p = Point(z=1, x=2)\n",
    "print(p.x, p.y, p.z)"
   ]
  },
  {
   "cell_type": "markdown",
   "metadata": {},
   "source": [
    "### Methods ###\n",
    "Class instances can also have methods (defined by its class) for modifying its state for example.\n",
    "\n",
    "Example : we add two methods to the class Point.<br>\n",
    "distance_origine : returns the distance of the point from the origine (0, 0, 0)<br>\n",
    "distnace : returns the disstnace between this point and an other point."
   ]
  },
  {
   "cell_type": "code",
   "execution_count": 13,
   "metadata": {},
   "outputs": [],
   "source": [
    "from math import sqrt\n",
    "\n",
    "class Point :\n",
    "    def __init__(self, x=0, y=0, z=0):\n",
    "        self.x = float(x)\n",
    "        self.y = float(y)\n",
    "        self.z = float(z)\n",
    "        \n",
    "    def distance_origine(self):\n",
    "        return sqrt(self.x*self.x + self.y*self.y + self.z*self.z)\n",
    "    \n",
    "    def distance (self, p):\n",
    "        return sqrt((self.x - p.x)**2 + (self.y - p.y)**2 + (self.z - p.z)**2)"
   ]
  },
  {
   "cell_type": "code",
   "execution_count": 14,
   "metadata": {},
   "outputs": [],
   "source": [
    "a = Point(1, 1, 1)"
   ]
  },
  {
   "cell_type": "code",
   "execution_count": 15,
   "metadata": {},
   "outputs": [
    {
     "data": {
      "text/plain": [
       "1.7320508075688772"
      ]
     },
     "execution_count": 15,
     "metadata": {},
     "output_type": "execute_result"
    }
   ],
   "source": [
    "a.distance_origine()"
   ]
  },
  {
   "cell_type": "code",
   "execution_count": 16,
   "metadata": {},
   "outputs": [],
   "source": [
    "b = Point(1, 2,1)"
   ]
  },
  {
   "cell_type": "code",
   "execution_count": 17,
   "metadata": {},
   "outputs": [
    {
     "data": {
      "text/plain": [
       "1.0"
      ]
     },
     "execution_count": 17,
     "metadata": {},
     "output_type": "execute_result"
    }
   ],
   "source": [
    "a.distance(b)"
   ]
  },
  {
   "cell_type": "code",
   "execution_count": 18,
   "metadata": {},
   "outputs": [
    {
     "data": {
      "text/plain": [
       "1.0"
      ]
     },
     "execution_count": 18,
     "metadata": {},
     "output_type": "execute_result"
    }
   ],
   "source": [
    "b.distance(a)"
   ]
  },
  {
   "cell_type": "markdown",
   "metadata": {},
   "source": [
    "### Special methods and Operator overloading ###\n",
    "Let's look at this example :<br>\n",
    "We want to print a point using the builtin function ```print ```<br>\n",
    "We want to compare to points."
   ]
  },
  {
   "cell_type": "code",
   "execution_count": 24,
   "metadata": {},
   "outputs": [
    {
     "name": "stdout",
     "output_type": "stream",
     "text": [
      "(1.0, 2.0, 3.0)\n",
      "(1.0, 2.0, 3.0)\n"
     ]
    }
   ],
   "source": [
    "a = Point(1, 2, 3)\n",
    "b = Point(1, 2, 3)\n",
    "print(a)\n",
    "print(b)"
   ]
  },
  {
   "cell_type": "code",
   "execution_count": 25,
   "metadata": {},
   "outputs": [
    {
     "data": {
      "text/plain": [
       "True"
      ]
     },
     "execution_count": 25,
     "metadata": {},
     "output_type": "execute_result"
    }
   ],
   "source": [
    "a == b"
   ]
  },
  {
   "cell_type": "markdown",
   "metadata": {},
   "source": [
    "Python has many <b>special methods</b> other than ```__init __ ()``` and ```__del __ ()```\n",
    "\n",
    "These methods can be used to enrich a class definition to : <br>\n",
    "* represent objects : ```__str__ , __repr__ ```\n",
    "* compare objects : ```__cmp__ , __lt__ , __le__ , __eq__ , __ne__ , __gt__ , __ge__ ```\n",
    "* override arithmetic and logic operators : ```__add__ , __sub__ , __mul__ , __div__ , __floordiv__ , __mod__ , __pow__ , __and__ , __or__ , ... ```\n",
    "* access to objects attributs : ```__setattr__ , __getattr__ , __getattribute__, __delattr__() ```\n",
    "* use objects as containers : ```__getitem__(key) , __setitem__(key, value), __delitem__(key), __len__(), __iter__(), __contains__(item) ```\n",
    "\n"
   ]
  },
  {
   "cell_type": "code",
   "execution_count": 26,
   "metadata": {},
   "outputs": [],
   "source": [
    "from math import sqrt\n",
    "\n",
    "class Point :\n",
    "    def __init__(self, x=0, y=0, z=0):\n",
    "        self.x = float(x)\n",
    "        self.y = float(y)\n",
    "        self.z = float(z)\n",
    "        \n",
    "    def __str__(self):\n",
    "        return \"(\" + str(self.x) + \", \" + str(self.y) + \", \" + str(self.z) + \")\"\n",
    "    \n",
    "    def __eq__(self, other):\n",
    "        if self.x == other.x and self.y == other.y and self.z == other.z:\n",
    "            return True\n",
    "        else :\n",
    "            return False\n",
    "      \n",
    "    def distance_origine(self):\n",
    "        return sqrt(self.x*self.x + self.y*self.y + self.z*self.z)\n",
    "    \n",
    "    def distance (self, p):\n",
    "        return sqrt((self.x - p.x)**2 + (self.y - p.y)**2 + (self.z - p.z)**2)"
   ]
  },
  {
   "cell_type": "code",
   "execution_count": 27,
   "metadata": {},
   "outputs": [
    {
     "name": "stdout",
     "output_type": "stream",
     "text": [
      "(1.0, 2.0, 3.0)\n",
      "(1.0, 2.0, 3.0)\n"
     ]
    }
   ],
   "source": [
    "a = Point(1, 2, 3)\n",
    "b = Point(1, 2, 3)\n",
    "print(a)\n",
    "print(b)"
   ]
  },
  {
   "cell_type": "code",
   "execution_count": 28,
   "metadata": {},
   "outputs": [
    {
     "data": {
      "text/plain": [
       "True"
      ]
     },
     "execution_count": 28,
     "metadata": {},
     "output_type": "execute_result"
    }
   ],
   "source": [
    "a == b"
   ]
  },
  {
   "cell_type": "markdown",
   "metadata": {},
   "source": [
    "## Inheritance ##"
   ]
  },
  {
   "cell_type": "markdown",
   "metadata": {},
   "source": [
    "Inheritance allows us to define a <b>derived class</b> that inherits methods and properties from another <b>base class</b>.\n",
    "\n",
    "In Python, the class inheritance mechanism allows multiple base classes (multiple inheritance). A derived class can override any methods of its base class or classes, and a method can call the method of a base class with the same name.\n",
    "\n",
    "The syntax of Inheritance in Python is as follow : \n",
    "```python\n",
    "class DerivedClassName(BaseClassName):\n",
    "    <statement-1>\n",
    "    .\n",
    "    .\n",
    "    .\n",
    "    <statement-N>\n",
    "```\n",
    "\n",
    "Note that “Private” instance variables that cannot be accessed except from inside an object don’t exist in Python.\n",
    "\n",
    "Example : definition of a colored point\n"
   ]
  },
  {
   "cell_type": "code",
   "execution_count": 29,
   "metadata": {},
   "outputs": [],
   "source": [
    "class ColoredPoint (Point):\n",
    "    def __init__(self, x=0.0, y=0.0, z=0.0, color='black'):\n",
    "        super().__init__(x, y, z)\n",
    "        self.color = color"
   ]
  },
  {
   "cell_type": "code",
   "execution_count": 30,
   "metadata": {},
   "outputs": [],
   "source": [
    "p = ColoredPoint(1, 2, 3, 'red')"
   ]
  },
  {
   "cell_type": "code",
   "execution_count": 31,
   "metadata": {},
   "outputs": [
    {
     "name": "stdout",
     "output_type": "stream",
     "text": [
      "1.0 2.0 3.0 red\n"
     ]
    }
   ],
   "source": [
    "print(p.x, p.y, p.z, p.color)"
   ]
  },
  {
   "cell_type": "code",
   "execution_count": 32,
   "metadata": {},
   "outputs": [
    {
     "data": {
      "text/plain": [
       "'red'"
      ]
     },
     "execution_count": 32,
     "metadata": {},
     "output_type": "execute_result"
    }
   ],
   "source": [
    "p.color"
   ]
  },
  {
   "cell_type": "code",
   "execution_count": 33,
   "metadata": {},
   "outputs": [
    {
     "name": "stdout",
     "output_type": "stream",
     "text": [
      "(1.0, 2.0, 3.0)\n"
     ]
    }
   ],
   "source": [
    "print(p)"
   ]
  },
  {
   "cell_type": "markdown",
   "metadata": {},
   "source": [
    "### Method overriding ###"
   ]
  },
  {
   "cell_type": "code",
   "execution_count": 34,
   "metadata": {},
   "outputs": [],
   "source": [
    "class ColoredPoint (Point):\n",
    "    def __init__(self, x=0, y=0, z=0, color='black'):\n",
    "        super().__init__(x, y, z)\n",
    "        self.color = color\n",
    "    \n",
    "    def __str__(self):\n",
    "        return \"(Colored \" + self.color + \", \" + str(self.x) + \", \" + str(self.y) + \", \" + str(self.z) + \")\""
   ]
  },
  {
   "cell_type": "code",
   "execution_count": 35,
   "metadata": {},
   "outputs": [],
   "source": [
    "a = Point(1, 2, 3)\n",
    "b = ColoredPoint(1, 2, 3, 'red')"
   ]
  },
  {
   "cell_type": "code",
   "execution_count": 36,
   "metadata": {},
   "outputs": [
    {
     "name": "stdout",
     "output_type": "stream",
     "text": [
      "(1.0, 2.0, 3.0)\n",
      "(Colored red, 1.0, 2.0, 3.0)\n"
     ]
    }
   ],
   "source": [
    "print(a)\n",
    "print(b)"
   ]
  },
  {
   "cell_type": "markdown",
   "metadata": {},
   "source": [
    "### Polymorphism ###\n",
    "\n",
    "Example : "
   ]
  },
  {
   "cell_type": "code",
   "execution_count": 37,
   "metadata": {},
   "outputs": [],
   "source": [
    "L = []\n",
    "L.append(Point(1, 1, 1))\n",
    "L.append(ColoredPoint(1, 0, 1))\n",
    "L.append(ColoredPoint(2, 1, 2, 'red'))\n",
    "L.append(Point(2, 4, 0))"
   ]
  },
  {
   "cell_type": "code",
   "execution_count": 38,
   "metadata": {},
   "outputs": [
    {
     "name": "stdout",
     "output_type": "stream",
     "text": [
      "(1.0, 1.0, 1.0)\n",
      "(Colored black, 1.0, 0.0, 1.0)\n",
      "(Colored red, 2.0, 1.0, 2.0)\n",
      "(2.0, 4.0, 0.0)\n"
     ]
    }
   ],
   "source": [
    "for p in L:\n",
    "    print(p)"
   ]
  },
  {
   "cell_type": "code",
   "execution_count": null,
   "metadata": {},
   "outputs": [],
   "source": []
  }
 ],
 "metadata": {
  "kernelspec": {
   "display_name": "Python 3",
   "language": "python",
   "name": "python3"
  },
  "language_info": {
   "codemirror_mode": {
    "name": "ipython",
    "version": 3
   },
   "file_extension": ".py",
   "mimetype": "text/x-python",
   "name": "python",
   "nbconvert_exporter": "python",
   "pygments_lexer": "ipython3",
   "version": "3.5.6"
  }
 },
 "nbformat": 4,
 "nbformat_minor": 2
}

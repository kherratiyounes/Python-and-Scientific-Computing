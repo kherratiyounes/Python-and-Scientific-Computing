{
 "cells": [
  {
   "cell_type": "markdown",
   "metadata": {},
   "source": [
    "# Linear Regression Lab\n",
    "\n",
    "Linear regression is a supervised learning problem. <br>\n",
    "Linear Regression is used to predict the value of a dependent variable $y$ based on a given set of independent variables $X$ (predictor variables).\n",
    "### Task :\n",
    "Given numerical dataset $(X, y)$, build a model to predict (or estimate) a real-value output. <br>\n",
    "Real values are known for the examples used to build the model $\\implies$ Supervised learning problem. <br>\n",
    "\n",
    "<img src=\"learning_regression.png\" width=\"300\">\n",
    "\n",
    "### Model Representation\n",
    "\n",
    "In the case of linear regresssion with multiple variables, the training dataset $(X, y)$ contains $m$ examples and $n$ attributes (variables). <br>\n",
    "Each example $x^i \\in \\mathbb{R}^{1xn}$ is labled by a real value $y^i \\in \\mathbb{R}$ : <br>\n",
    "$$ X \\in \\mathbb{R}^{mxn} , y \\in \\mathbb{R}^{mx1}$$\n",
    "<br>\n",
    "The model we want to learn is defined as a linear hypothesis $h$ with parameters $w \\in \\mathbb{R}^{nx1}$ and $b \\in \\mathbb{R}$ : <br><br>\n",
    "\n",
    "$$ \\hat{y} = h_{w,b}(x) = w_1x_1 + w_2x_2 + ... + w_nx_n + b$$ <br>\n",
    "\n",
    "$$h_{w,b}(x) = xw + b $$ <br> \n",
    "\n",
    "We will use Gradient Descent algorithm to fit the linear regression parameters $w$ and $b$ to our dataset.\n",
    "\n",
    "\n"
   ]
  },
  {
   "cell_type": "markdown",
   "metadata": {},
   "source": [
    "## 1. Importing packages (libraries)\n",
    "\n",
    "First, let's import packages that we will need during this lab.\n",
    "\n",
    "- Numpy is the fundamental package for scientific computing with Python.\n",
    "- Matplotlib is a Python 2D plotting library : plotting graphs."
   ]
  },
  {
   "cell_type": "code",
   "execution_count": 1,
   "metadata": {},
   "outputs": [],
   "source": [
    "import numpy as np\n",
    "import matplotlib.pyplot as plt"
   ]
  },
  {
   "cell_type": "markdown",
   "metadata": {},
   "source": [
    "## 2. Loading Data"
   ]
  },
  {
   "cell_type": "code",
   "execution_count": 2,
   "metadata": {},
   "outputs": [
    {
     "name": "stdout",
     "output_type": "stream",
     "text": [
      "Number of examples :  365\n",
      "Number of attributes :  1\n",
      "Variables Name :  ['Tmin', 'Tmax']\n",
      "\n",
      "X shape :  (365, 1)\n",
      "y shape :  (365, 1)\n"
     ]
    }
   ],
   "source": [
    "# Dataset for Linear Regression with one variable\n",
    "filename = 'tmin_tmax_meknes.txt'\n",
    "# filename = 'data1.txt'\n",
    "\n",
    "# Read Data\n",
    "data = np.genfromtxt(filename , delimiter=',' , skip_header = 1)\n",
    "\n",
    "# Read Header names\n",
    "f = open(filename, 'r')\n",
    "names = f.readline().strip().split(',')\n",
    "\n",
    "n = data.shape[1]\n",
    "X = data[:, 0:n-1]\n",
    "y = data[:, n-1]\n",
    "\n",
    "m = X.shape[0]\n",
    "n = X.shape[1]\n",
    "\n",
    "y = y.reshape((m, 1))\n",
    "\n",
    "print(\"Number of examples : \", m)\n",
    "print(\"Number of attributes : \", n)\n",
    "print(\"Variables Name : \", names)\n",
    "print()\n",
    "print(\"X shape : \", X.shape)\n",
    "print(\"y shape : \", y.shape)"
   ]
  },
  {
   "cell_type": "markdown",
   "metadata": {},
   "source": [
    "## 3. Plotting the Data\n",
    "\n",
    "We use here a scatter plot to visualize the data."
   ]
  },
  {
   "cell_type": "code",
   "execution_count": 3,
   "metadata": {
    "scrolled": false
   },
   "outputs": [
    {
     "data": {
      "image/png": "[encoded data removed]",
      "text/plain": [
       "<Figure size 432x288 with 1 Axes>"
      ]
     },
     "metadata": {
      "needs_background": "light"
     },
     "output_type": "display_data"
    }
   ],
   "source": [
    "# In the case of Linear regression with one variable\n",
    "\n",
    "plt.plot(X, y, 'b+') # We can use scatter function : plt.scatter(X, y, s = 20, c = 'b', marker = '+') \n",
    "plt.xlabel(names[0])\n",
    "plt.ylabel(names[len(names)-1])\n",
    "plt.show()"
   ]
  },
  {
   "cell_type": "markdown",
   "metadata": {},
   "source": [
    "## 4. Cost Function\n",
    "For one training example $(x^{i}, y^{i})$ : <br>\n",
    "\n",
    "$$ \\hat{y}^{i} = h_{w,b}(x^i) = w_1x_1^i + w_2x_2^i + ... + w_nx_n^i + b = x^i w + b $$\n",
    "\n",
    "The loss function is defined as : <br>\n",
    "\n",
    "$$ Loss(x^i , y^i) = (\\hat{y}^{i} - y^{i})^2 $$\n",
    "\n",
    "The cost function is then defined by summing $Loss$ over all training examples :\n",
    "\n",
    "$$cost(w, b) = J(w, b) = \\frac{1}{2m} \\sum_{i=1}^m Loss(x^{i}, y^{i}) = \\frac{1}{2m} \\sum_{i=1}^m (h_{w,b}(x^i) - y^{i})^2 $$\n",
    "<br>\n",
    "The vectorized form of the cost function is as follow :\n",
    "$$ J(w,b) = \\frac{1}{2m} [(Xw + b) - y]^T [(Xw + b) - y]$$\n",
    "\n",
    "The objective of linear regression is to minimize the cost function given training dataset $ (X, y)$\n",
    "\n",
    "Below we implement a function to calculate $J(w, b)$."
   ]
  },
  {
   "cell_type": "code",
   "execution_count": 4,
   "metadata": {},
   "outputs": [],
   "source": [
    "def compute_cost(X, y, w, b):\n",
    "    \"\"\"\n",
    "    Compute cost for linear regression with multiple variables\n",
    "    \n",
    "    Arguments:\n",
    "    X -- Dataset examples, a matrix of size (number of examples , number of predictor variables)\n",
    "    y -- Real labels, a vector of size (number of examples, 1)\n",
    "    w -- weights, a vector of size (number of variables, 1)\n",
    "    b -- bias, a scalar\n",
    "\n",
    "    Return:\n",
    "    cost -- cost for linear regression\n",
    "    \"\"\"\n",
    "    m = X.shape[0]\n",
    "    h = np.matmul(X, w) + b\n",
    "    cost = np.sum((h - y) * (h - y)) / (2*m)\n",
    "    return cost"
   ]
  },
  {
   "cell_type": "markdown",
   "metadata": {},
   "source": [
    "## 5. Gradient Descent\n",
    "\n",
    "In this part we implement Gradient Descent Algorithm to fit the linear regression parameters $w$ and $b$ to our dataset. That is to minimize the cost function.\n",
    "\n",
    "### Update equations\n",
    "\n",
    "$$ w_j = w_j - \\alpha \\frac{\\partial J}{\\partial w_j} = w_j - \\alpha \\frac{1}{m} \\sum_{i=1}^{m} (h_{w,b}(x^i) - y^{i})x_j^i  $$ <br>\n",
    "$$ b = b - \\alpha \\frac{\\partial J}{\\partial b} = b - \\alpha \\frac{1}{m} \\sum_{i=1}^{m} (h_{w,b}(x^i) - y^{i}) $$\n"
   ]
  },
  {
   "cell_type": "code",
   "execution_count": 5,
   "metadata": {},
   "outputs": [],
   "source": [
    "def gradient_descent (X, y, w, b, alpha, num_iters):\n",
    "    \"\"\"\n",
    "    This function is an implementation of gradient descent \n",
    "    to learn parameters w, b for linear regression with multiple variables \n",
    "    to fit the training dataset (X, y)\n",
    "    \n",
    "    Arguments:\n",
    "    X -- Dataset examples, a matrix of size (number of examples , number of variables)\n",
    "    y -- Real labels, a vector of size (number of examples, 1)\n",
    "    w -- weights, a vector of size (number of variables, 1)\n",
    "    b -- bias, a scalar\n",
    "    alpha -- learning rate of the gradient descent\n",
    "    num_iters -- number of iterations of the optimization loop\n",
    "    \n",
    "    Returns:\n",
    "    w, b -- weights w and bias b\n",
    "    costs -- list of all the costs computed during the optimization.\n",
    "    \"\"\"\n",
    "    m = X.shape[0]\n",
    "    costs = []\n",
    "    for i in range(num_iters):\n",
    "        h = np.matmul(X, w) + b\n",
    "        dw = np.matmul(X.T, h-y) / m\n",
    "        db = np.sum (h - y) / m\n",
    "        w = w - alpha * dw\n",
    "        b = b - alpha * db\n",
    "        cost = compute_cost(X, y, w, b)\n",
    "        costs.append(cost)\n",
    "        if i%100 == 0:\n",
    "            print(\"Cost after iteration \" + str(i+1) + \" : \" + str(cost))\n",
    "    return w, b, costs"
   ]
  },
  {
   "cell_type": "code",
   "execution_count": 6,
   "metadata": {},
   "outputs": [],
   "source": [
    "def predict (x, w, b):\n",
    "    \"\"\"\n",
    "    This function estimates the output y of a given example x\n",
    "    using learned parameters w, b.\n",
    "    \n",
    "    Arguments:\n",
    "    x -- data examlpe, a vector of size (1, number of variables), may be a matrix\n",
    "    w -- weights, a vector of size (number of variables, 1)\n",
    "    b -- bias, a scalar\n",
    "    \n",
    "    \n",
    "    Returns:\n",
    "    y -- estimated value, a scalar, may be a vector\n",
    "    \n",
    "    \"\"\"\n",
    "    return np.matmul(x, w) + b"
   ]
  },
  {
   "cell_type": "markdown",
   "metadata": {},
   "source": [
    "## 6. Assess model performance (quality) : R Squared"
   ]
  },
  {
   "cell_type": "markdown",
   "metadata": {},
   "source": [
    "$$R^2 = 1 - \\frac{\\sum_{i=1}^{m} (y^{i} - \\hat{y}^{i})^2}{\\sum_{i=1}^{m} (y^{i} - \\bar{y})^2} $$"
   ]
  },
  {
   "cell_type": "code",
   "execution_count": 7,
   "metadata": {},
   "outputs": [],
   "source": [
    "def rsquared(X, y):\n",
    "    ...\n",
    "    \n",
    "    return r2"
   ]
  },
  {
   "cell_type": "markdown",
   "metadata": {},
   "source": [
    "# Running Linear Regression with one var"
   ]
  },
  {
   "cell_type": "code",
   "execution_count": 8,
   "metadata": {},
   "outputs": [
    {
     "name": "stdout",
     "output_type": "stream",
     "text": [
      "Initial cost =  298.4723835616438\n"
     ]
    }
   ],
   "source": [
    "# Initialize fitting parameters w and b\n",
    "w = np.zeros((n, 1))\n",
    "b = 0\n",
    "\n",
    "# Compute initial cost\n",
    "J = compute_cost(X, y, w, b)\n",
    "print(\"Initial cost = \", J)\n",
    "\n",
    "# Set Hyper-parameter alpha and number of iterations\n",
    "alpha = 0.01\n",
    "num_iters = 10000"
   ]
  },
  {
   "cell_type": "code",
   "execution_count": 9,
   "metadata": {},
   "outputs": [
    {
     "name": "stdout",
     "output_type": "stream",
     "text": [
      "Cost after iteration 1 : 207.4571226441101\n",
      "Cost after iteration 101 : 7.29772117988745\n",
      "Cost after iteration 201 : 6.057513221035779\n",
      "Cost after iteration 301 : 5.17314124178856\n",
      "Cost after iteration 401 : 4.542510070543843\n",
      "Cost after iteration 501 : 4.0928173128831995\n",
      "Cost after iteration 601 : 3.772148773944201\n",
      "Cost after iteration 701 : 3.543485291792081\n",
      "Cost after iteration 801 : 3.380429108472894\n",
      "Cost after iteration 901 : 3.2641564152190856\n",
      "Cost after iteration 1001 : 3.181244262356848\n",
      "Cost after iteration 1101 : 3.122120964359052\n",
      "Cost after iteration 1201 : 3.0799611090728893\n",
      "Cost after iteration 1301 : 3.049897606901267\n",
      "Cost after iteration 1401 : 3.028459815981719\n",
      "Cost after iteration 1501 : 3.0131728784557237\n",
      "Cost after iteration 1601 : 3.0022720137257375\n",
      "Cost after iteration 1701 : 2.9944987856570426\n",
      "Cost after iteration 1801 : 2.988955824056783\n",
      "Cost after iteration 1901 : 2.985003228940516\n",
      "Cost after iteration 2001 : 2.9821846981117246\n",
      "Cost after iteration 2101 : 2.9801748499488934\n",
      "Cost after iteration 2201 : 2.978741660147888\n",
      "Cost after iteration 2301 : 2.9777196759782942\n",
      "Cost after iteration 2401 : 2.9769909158083796\n",
      "Cost after iteration 2501 : 2.976471248869246\n",
      "Cost after iteration 2601 : 2.9761006828877665\n",
      "Cost after iteration 2701 : 2.975836438356724\n",
      "Cost after iteration 2801 : 2.9756480099103038\n",
      "Cost after iteration 2901 : 2.9755136446718637\n",
      "Cost after iteration 3001 : 2.975417831021409\n",
      "Cost after iteration 3101 : 2.97534950787682\n",
      "Cost after iteration 3201 : 2.9753007877616353\n",
      "Cost after iteration 3301 : 2.9752660462455958\n",
      "Cost after iteration 3401 : 2.97524127263962\n",
      "Cost after iteration 3501 : 2.975223606987021\n",
      "Cost after iteration 3601 : 2.9752110098995392\n",
      "Cost after iteration 3701 : 2.975202027122813\n",
      "Cost after iteration 3801 : 2.9751956216518782\n",
      "Cost after iteration 3901 : 2.9751910540154856\n",
      "Cost after iteration 4001 : 2.9751877969087968\n",
      "Cost after iteration 4101 : 2.975185474319373\n",
      "Cost after iteration 4201 : 2.9751838181189023\n",
      "Cost after iteration 4301 : 2.9751826371094765\n",
      "Cost after iteration 4401 : 2.9751817949510024\n",
      "Cost after iteration 4501 : 2.9751811944215896\n",
      "Cost after iteration 4601 : 2.9751807661939025\n",
      "Cost after iteration 4701 : 2.975180460831754\n",
      "Cost after iteration 4801 : 2.9751802430830088\n",
      "Cost after iteration 4901 : 2.9751800878099446\n",
      "Cost after iteration 5001 : 2.9751799770872664\n",
      "Cost after iteration 5101 : 2.975179898132739\n",
      "Cost after iteration 5201 : 2.9751798418315585\n",
      "Cost after iteration 5301 : 2.9751798016841087\n",
      "Cost after iteration 5401 : 2.97517977305562\n",
      "Cost after iteration 5501 : 2.9751797526411137\n",
      "Cost after iteration 5601 : 2.9751797380838636\n",
      "Cost after iteration 5701 : 2.975179727703327\n",
      "Cost after iteration 5801 : 2.9751797203011368\n",
      "Cost after iteration 5901 : 2.9751797150227555\n",
      "Cost after iteration 6001 : 2.975179711258829\n",
      "Cost after iteration 6101 : 2.975179708574834\n",
      "Cost after iteration 6201 : 2.975179706660922\n",
      "Cost after iteration 6301 : 2.9751797052961417\n",
      "Cost after iteration 6401 : 2.97517970432294\n",
      "Cost after iteration 6501 : 2.9751797036289656\n",
      "Cost after iteration 6601 : 2.9751797031341045\n",
      "Cost after iteration 6701 : 2.9751797027812263\n",
      "Cost after iteration 6801 : 2.9751797025295947\n",
      "Cost after iteration 6901 : 2.97517970235016\n",
      "Cost after iteration 7001 : 2.975179702222209\n",
      "Cost after iteration 7101 : 2.9751797021309687\n",
      "Cost after iteration 7201 : 2.975179702065907\n",
      "Cost after iteration 7301 : 2.975179702019512\n",
      "Cost after iteration 7401 : 2.9751797019864283\n",
      "Cost after iteration 7501 : 2.9751797019628374\n",
      "Cost after iteration 7601 : 2.9751797019460158\n",
      "Cost after iteration 7701 : 2.9751797019340196\n",
      "Cost after iteration 7801 : 2.975179701925466\n",
      "Cost after iteration 7901 : 2.9751797019193655\n",
      "Cost after iteration 8001 : 2.975179701915016\n",
      "Cost after iteration 8101 : 2.9751797019119146\n",
      "Cost after iteration 8201 : 2.975179701909703\n",
      "Cost after iteration 8301 : 2.9751797019081256\n",
      "Cost after iteration 8401 : 2.975179701907001\n",
      "Cost after iteration 8501 : 2.9751797019061983\n",
      "Cost after iteration 8601 : 2.9751797019056276\n",
      "Cost after iteration 8701 : 2.9751797019052195\n",
      "Cost after iteration 8801 : 2.9751797019049286\n",
      "Cost after iteration 8901 : 2.9751797019047213\n",
      "Cost after iteration 9001 : 2.975179701904574\n",
      "Cost after iteration 9101 : 2.9751797019044677\n",
      "Cost after iteration 9201 : 2.975179701904393\n",
      "Cost after iteration 9301 : 2.975179701904339\n",
      "Cost after iteration 9401 : 2.9751797019043007\n",
      "Cost after iteration 9501 : 2.9751797019042736\n",
      "Cost after iteration 9601 : 2.975179701904254\n",
      "Cost after iteration 9701 : 2.97517970190424\n",
      "Cost after iteration 9801 : 2.97517970190423\n",
      "Cost after iteration 9901 : 2.975179701904224\n"
     ]
    }
   ],
   "source": [
    "# Run Gradient Descent\n",
    "w, b, costs = gradient_descent (X, y, w, b, alpha, num_iters)"
   ]
  },
  {
   "cell_type": "code",
   "execution_count": 10,
   "metadata": {},
   "outputs": [
    {
     "name": "stdout",
     "output_type": "stream",
     "text": [
      "W =  [[1.20297712]]\n",
      "b =  8.586419499610916\n"
     ]
    }
   ],
   "source": [
    "# Print learned parameters \n",
    "print(\"W = \", w)\n",
    "print(\"b = \", b)"
   ]
  },
  {
   "cell_type": "code",
   "execution_count": 11,
   "metadata": {},
   "outputs": [
    {
     "data": {
      "image/png": "[encoded data removed]",
      "text/plain": [
       "<Figure size 432x288 with 1 Axes>"
      ]
     },
     "metadata": {
      "needs_background": "light"
     },
     "output_type": "display_data"
    }
   ],
   "source": [
    "# Plot the linear fit\n",
    "\n",
    "xl = np.linspace(0, 30, 100)\n",
    "yl = xl * w[0, 0] + b\n",
    "plt.plot(X[:, 0], y, 'b+', xl, yl, 'r')\n",
    "plt.show()"
   ]
  },
  {
   "cell_type": "code",
   "execution_count": 12,
   "metadata": {},
   "outputs": [
    {
     "name": "stdout",
     "output_type": "stream",
     "text": [
      "[23.02214497]\n"
     ]
    }
   ],
   "source": [
    "# Predict using the linear model\n",
    "\n",
    "tmin = np.array([12])\n",
    "tmax = predict(tmin, w, b)\n",
    "print(tmax)"
   ]
  },
  {
   "cell_type": "code",
   "execution_count": 13,
   "metadata": {},
   "outputs": [
    {
     "data": {
      "image/png": "[encoded data removed]",
      "text/plain": [
       "<Figure size 432x288 with 1 Axes>"
      ]
     },
     "metadata": {
      "needs_background": "light"
     },
     "output_type": "display_data"
    }
   ],
   "source": [
    "# Visualize costs over iterations\n",
    "\n",
    "iters = np.arange(len(costs))\n",
    "plt.plot(iters, costs)\n",
    "plt.xlabel(\"Iteration\")\n",
    "plt.ylabel(\"Cost\")\n",
    "plt.show()"
   ]
  },
  {
   "cell_type": "markdown",
   "metadata": {},
   "source": [
    "# Linear Regression using sklearn"
   ]
  },
  {
   "cell_type": "code",
   "execution_count": 15,
   "metadata": {},
   "outputs": [],
   "source": [
    "from sklearn.linear_model import LinearRegression"
   ]
  },
  {
   "cell_type": "code",
   "execution_count": 16,
   "metadata": {},
   "outputs": [
    {
     "name": "stdout",
     "output_type": "stream",
     "text": [
      "W =  [[1.2029771]]\n",
      "b =  [8.58641988]\n",
      "Score =  0.8824982309186143\n"
     ]
    }
   ],
   "source": [
    "LR = LinearRegression()\n",
    "LR.fit(X, y)\n",
    "\n",
    "# Learned param\n",
    "w = LR.coef_\n",
    "b = LR.intercept_\n",
    "\n",
    "print(\"W = \", w)\n",
    "print(\"b = \", b)\n",
    "\n",
    "# Model performance (quality)\n",
    "\n",
    "r2 = LR.score(X, y)\n",
    "print(\"Score = \", r2)"
   ]
  },
  {
   "cell_type": "code",
   "execution_count": 17,
   "metadata": {},
   "outputs": [
    {
     "name": "stdout",
     "output_type": "stream",
     "text": [
      "[[23.02214504]]\n"
     ]
    }
   ],
   "source": [
    "# Predict using the linear model\n",
    "\n",
    "tmin = np.array([[12]])\n",
    "tmax = LR.predict(tmin)\n",
    "print(tmax)"
   ]
  },
  {
   "cell_type": "markdown",
   "metadata": {},
   "source": [
    "# Using Normal Equation"
   ]
  },
  {
   "cell_type": "code",
   "execution_count": 18,
   "metadata": {},
   "outputs": [
    {
     "name": "stdout",
     "output_type": "stream",
     "text": [
      "[[1.2029771 ]\n",
      " [8.58641988]]\n"
     ]
    }
   ],
   "source": [
    "A = np.ones((X.shape[0], 1))\n",
    "X2 = np.concatenate((X, A), axis=1)\n",
    "W = np.matmul(np.matmul(np.linalg.inv(np.matmul(X2.T, X2)) , X2.T), y)\n",
    "print(W)"
   ]
  },
  {
   "cell_type": "markdown",
   "metadata": {},
   "source": [
    "# Running Linear Regression with multiple var"
   ]
  },
  {
   "cell_type": "markdown",
   "metadata": {},
   "source": [
    "## Loading Data"
   ]
  },
  {
   "cell_type": "code",
   "execution_count": 19,
   "metadata": {},
   "outputs": [
    {
     "name": "stdout",
     "output_type": "stream",
     "text": [
      "Number of examples :  365\n",
      "Number of attributes :  3\n",
      "Variables Name :  ['TAO', 'Dec', 'Tmax', 'DGSR']\n",
      "\n",
      "X shape :  (365, 3)\n",
      "y shape :  (365, 1)\n"
     ]
    }
   ],
   "source": [
    "# Dataset for Linear Regression with multiple variables\n",
    "filename = 'solar_radiation_meknes_data.txt'\n",
    "\n",
    "# Read Data\n",
    "data = np.genfromtxt(filename , delimiter=',' , skip_header = 1)\n",
    "\n",
    "# Read Header names\n",
    "f = open(filename, 'r')\n",
    "names = f.readline().strip().split(',')\n",
    "\n",
    "n = data.shape[1]\n",
    "X = data[:, 0:n-1]\n",
    "y = data[:, n-1]\n",
    "\n",
    "m = X.shape[0]\n",
    "n = X.shape[1]\n",
    "\n",
    "y = y.reshape((m, 1))\n",
    "\n",
    "print(\"Number of examples : \", m)\n",
    "print(\"Number of attributes : \", n)\n",
    "print(\"Variables Name : \", names)\n",
    "print()\n",
    "print(\"X shape : \", X.shape)\n",
    "print(\"y shape : \", y.shape)"
   ]
  },
  {
   "cell_type": "markdown",
   "metadata": {},
   "source": [
    "## Plotting the Data\n",
    "\n",
    "We use here a scatter plot to visualize the data."
   ]
  },
  {
   "cell_type": "code",
   "execution_count": 20,
   "metadata": {},
   "outputs": [
    {
     "data": {
      "image/png": "[encoded data removed]",
      "text/plain": [
       "<Figure size 432x288 with 1 Axes>"
      ]
     },
     "metadata": {
      "needs_background": "light"
     },
     "output_type": "display_data"
    },
    {
     "data": {
      "image/png": "[encoded data removed]",
      "text/plain": [
       "<Figure size 432x288 with 1 Axes>"
      ]
     },
     "metadata": {
      "needs_background": "light"
     },
     "output_type": "display_data"
    },
    {
     "data": {
      "image/png": "[encoded data removed]",
      "text/plain": [
       "<Figure size 432x288 with 1 Axes>"
      ]
     },
     "metadata": {
      "needs_background": "light"
     },
     "output_type": "display_data"
    }
   ],
   "source": [
    "# In the case of Linear regression with multiple variables\n",
    "\n",
    "for i in range(X.shape[1]):\n",
    "    plt.plot(X[:, i], y, 'r+')\n",
    "    plt.xlabel(names[i])\n",
    "    plt.ylabel(names[len(names)-1])\n",
    "    plt.show()\n",
    "\n",
    "    \n",
    "# We can use subplot\n",
    "#plt.figure(1)\n",
    "#plt.subplot(1, 3, 1)"
   ]
  },
  {
   "cell_type": "code",
   "execution_count": 21,
   "metadata": {},
   "outputs": [
    {
     "name": "stdout",
     "output_type": "stream",
     "text": [
      "Initial cost =  16.32441926983904\n"
     ]
    }
   ],
   "source": [
    "# Initialize fitting parameters w and b\n",
    "w = np.zeros((n, 1))\n",
    "b = 0\n",
    "\n",
    "# Compute initial cost\n",
    "J = compute_cost(X, y, w, b)\n",
    "print(\"Initial cost = \", J)\n",
    "\n",
    "# Set Hyper-parameters alpha and number of iterations\n",
    "alpha = 0.001\n",
    "num_iters = 200"
   ]
  },
  {
   "cell_type": "code",
   "execution_count": 22,
   "metadata": {},
   "outputs": [
    {
     "name": "stdout",
     "output_type": "stream",
     "text": [
      "Cost after iteration 1 : 2.2015493607637473\n",
      "Cost after iteration 101 : 0.5171204326831177\n"
     ]
    }
   ],
   "source": [
    "# Run Gradient Descent\n",
    "w, b, costs = gradient_descent (X, y, w, b, alpha, num_iters)"
   ]
  },
  {
   "cell_type": "code",
   "execution_count": 23,
   "metadata": {},
   "outputs": [
    {
     "name": "stdout",
     "output_type": "stream",
     "text": [
      "W =  [[0.2344775 ]\n",
      " [0.00585874]\n",
      " [0.14596499]]\n",
      "b =  0.02523879441031081\n"
     ]
    }
   ],
   "source": [
    "# Print learned parameters \n",
    "print(\"W = \", w)\n",
    "print(\"b = \", b)"
   ]
  },
  {
   "cell_type": "code",
   "execution_count": 24,
   "metadata": {},
   "outputs": [
    {
     "data": {
      "image/png": "[encoded data removed]",
      "text/plain": [
       "<Figure size 432x288 with 1 Axes>"
      ]
     },
     "metadata": {
      "needs_background": "light"
     },
     "output_type": "display_data"
    }
   ],
   "source": [
    "# Visualize costs over iterations\n",
    "\n",
    "iters = np.arange(len(costs))\n",
    "plt.plot(iters, costs)\n",
    "plt.xlabel(\"Iteration\")\n",
    "plt.ylabel(\"Cost\")\n",
    "plt.show()"
   ]
  },
  {
   "cell_type": "code",
   "execution_count": 25,
   "metadata": {},
   "outputs": [
    {
     "name": "stdout",
     "output_type": "stream",
     "text": [
      "W =  [[0.09299376 0.04883977 0.07527509]]\n",
      "b =  [2.91280498]\n"
     ]
    }
   ],
   "source": [
    "LR = LinearRegression()\n",
    "LR.fit(X, y)\n",
    "\n",
    "# Learned param\n",
    "w = LR.coef_\n",
    "b = LR.intercept_\n",
    "\n",
    "print(\"W = \", w)\n",
    "print(\"b = \", b)"
   ]
  },
  {
   "cell_type": "code",
   "execution_count": 26,
   "metadata": {},
   "outputs": [
    {
     "name": "stdout",
     "output_type": "stream",
     "text": [
      "0.7215008879266778\n"
     ]
    }
   ],
   "source": [
    "score = LR.score(X, y)\n",
    "print(score)"
   ]
  },
  {
   "cell_type": "code",
   "execution_count": null,
   "metadata": {},
   "outputs": [],
   "source": []
  }
 ],
 "metadata": {
  "kernelspec": {
   "display_name": "Python 3",
   "language": "python",
   "name": "python3"
  },
  "language_info": {
   "codemirror_mode": {
    "name": "ipython",
    "version": 3
   },
   "file_extension": ".py",
   "mimetype": "text/x-python",
   "name": "python",
   "nbconvert_exporter": "python",
   "pygments_lexer": "ipython3",
   "version": "3.7.4"
  }
 },
 "nbformat": 4,
 "nbformat_minor": 2
}
